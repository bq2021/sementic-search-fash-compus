{
 "cells": [
  {
   "cell_type": "markdown",
   "id": "ff02fe2a-a5f3-4a26-938f-3408a1011a78",
   "metadata": {},
   "source": [
    "### 1주차 과제 진행\n",
    "* client.ipynb는 카프카에 요청 위한 코드\n",
    "* 테스트 시 server.ipynb 실행, client.ipynb 실행 후 색인 진행\n",
    "\n",
    "1. 제품 listing 전체를 Elasticsearch에 인덱스\n",
    "2. 제품 인덱스의 ”item_keywords” 와 “product_description”를 업데이트 할 수 있는 API\n",
    "3. item_keyword와 product_description 정보로 제품을 검색\n",
    "---\n",
    "세부사항\n",
    "Kafka\n",
    "Elasticsearch\n",
    "- 로컬환경에서 작동되는 인프라를 구축합니다.(텍스트 전처리는 python의 nltk를 씁니다: https://www.nltk.org/)\n",
    "- 다량의 업데이트를 지원할 수 있는 시스템 구축을 가정합니다. (Flink: https://nightlies.apache.org/flink/flink-docs-release-1.20/docs/dev/python/overview/)\n",
    "- language_tag가 en_US 로 된 제품만 인덱스 합니다. (Kafka: https://docs.confluent.io/kafka-clients/python/current/overview.html)"
   ]
  },
  {
   "cell_type": "code",
   "execution_count": 1,
   "id": "4cdc528a-f9f7-4968-acd3-56d08db0058a",
   "metadata": {},
   "outputs": [
    {
     "name": "stderr",
     "output_type": "stream",
     "text": [
      "24/10/09 23:08:33 WARN Utils: Your hostname, HG380-MacBookAir.local resolves to a loopback address: 127.0.0.1; using 192.168.0.101 instead (on interface en0)\n",
      "24/10/09 23:08:33 WARN Utils: Set SPARK_LOCAL_IP if you need to bind to another address\n",
      "24/10/09 23:08:33 WARN NativeCodeLoader: Unable to load native-hadoop library for your platform... using builtin-java classes where applicable\n",
      "Setting default log level to \"WARN\".\n",
      "To adjust logging level use sc.setLogLevel(newLevel). For SparkR, use setLogLevel(newLevel).\n",
      "24/10/09 23:08:35 WARN Utils: Service 'SparkUI' could not bind on port 4040. Attempting port 4041.\n"
     ]
    }
   ],
   "source": [
    "from pyspark.sql import SparkSession\n",
    "from pyspark.sql.functions import col,explode, expr\n",
    "\n",
    "# SparkSession 생성\n",
    "spark = SparkSession.builder \\\n",
    "    .appName(\"Read GZ Compressed JSON Files with PySpark\") \\\n",
    "    .config(\"spark.sql.debug.maxToStringFields\", \"1000\") \\\n",
    "    .getOrCreate()\n",
    "\n",
    "\n"
   ]
  },
  {
   "cell_type": "code",
   "execution_count": 2,
   "id": "506bd61a-9835-4007-b79d-90bebce6d87c",
   "metadata": {},
   "outputs": [
    {
     "name": "stdout",
     "output_type": "stream",
     "text": [
      "Message produced with the offset: 4\n"
     ]
    }
   ],
   "source": [
    "import json\n",
    "import datetime\n",
    "\n",
    "from kafka import KafkaProducer\n",
    "\n",
    "def on_success(metadata):\n",
    "    print(f\"Message produced with the offset: {metadata.offset}\")\n",
    "\n",
    "def on_error(error):\n",
    "    print(f\"An error occurred while publishing the message. {error}\")\n",
    "\n",
    "producer = KafkaProducer(\n",
    "    bootstrap_servers='localhost:9092',\n",
    "    value_serializer=lambda v: json.dumps(v).encode('utf-8')\n",
    ")\n",
    "\n",
    "message = {\n",
    "    \"item_id\": \"B083PF2S9N\",\n",
    "    \"item_keywords\": [\n",
    "        {\n",
    "          \"language_tag\": \"en_US\",\n",
    "          \"value\": \"hello world\"\n",
    "        },\n",
    "        {\n",
    "          \"language_tag\": \"en_US\",\n",
    "          \"value\": \"good!\"\n",
    "        },\n",
    "        {\n",
    "          \"language_tag\": \"ja_JP\",\n",
    "          \"value\": \"セット\"\n",
    "        },\n",
    "        {\n",
    "          \"language_tag\": \"en_US\",\n",
    "          \"value\": \"nice!\"\n",
    "        }\n",
    "    ],\n",
    "    \"product_description\": [\n",
    "        {\n",
    "            \"language_tag\": \"en_US\",\n",
    "            \"value\": \"test1\"\n",
    "        },\n",
    "        {\n",
    "          \"language_tag\": \"ja_JP\",\n",
    "          \"value\": \"収納ボックス 折り畳み ; 収納ボックス セット ; 収納ボックス衣類 ; カラー ボックス 収納 ;\"\n",
    "        },\n",
    "        {\n",
    "            \"language_tag\": \"en_US\",\n",
    "            \"value\": \"test2\"\n",
    "        }\n",
    "    ]\n",
    "}\n",
    "\n",
    "future = producer.send(\"amazon_berkeley_update\", message)\n",
    "future.add_callback(on_success)\n",
    "future.add_errback(on_error)\n",
    "\n",
    "# Ensure all messages are sent before exiting\n",
    "producer.flush()\n",
    "producer.close()"
   ]
  },
  {
   "cell_type": "code",
   "execution_count": 5,
   "id": "dd93defe-e8cc-4260-bdc9-332866708be0",
   "metadata": {},
   "outputs": [
    {
     "name": "stdout",
     "output_type": "stream",
     "text": [
      "{\"took\":11,\"timed_out\":false,\"_shards\":{\"total\":1,\"successful\":1,\"skipped\":0,\"failed\":0},\"hits\":{\"total\":{\"value\":1,\"relation\":\"eq\"},\"max_score\":10.985678,\"hits\":[{\"_index\":\"amazon-berkeley\",\"_id\":\"B083PF2S9N\",\"_score\":10.985678,\"_source\":{\"item_id\":\"B083PF2S9N\",\"item_keywords\":[{\"language_tag\":\"en_US\",\"value\":\"hello world\"},{\"language_tag\":\"en_US\",\"value\":\"good!\"},{\"language_tag\":\"en_US\",\"value\":\"nice!\"}],\"product_description\":[{\"language_tag\":\"en_US\",\"value\":\"test1\"},{\"language_tag\":\"en_US\",\"value\":\"test2\"}]}}]}}"
     ]
    }
   ],
   "source": [
    "! curl -XGET \"http://localhost:9200/amazon-berkeley/_search\" -H \"Content-Type: application/json\" -d '{\"query\":{\"term\":{\"item_id.keyword\":{\"value\":\"B083PF2S9N\"}}},\"_source\":[\"item_id\",\"item_keywords\",\"product_description\"]}'"
   ]
  }
 ],
 "metadata": {
  "kernelspec": {
   "display_name": "Python-3.9",
   "language": "python",
   "name": "python-3.9"
  },
  "language_info": {
   "codemirror_mode": {
    "name": "ipython",
    "version": 3
   },
   "file_extension": ".py",
   "mimetype": "text/x-python",
   "name": "python",
   "nbconvert_exporter": "python",
   "pygments_lexer": "ipython3",
   "version": "3.9.20"
  }
 },
 "nbformat": 4,
 "nbformat_minor": 5
}
